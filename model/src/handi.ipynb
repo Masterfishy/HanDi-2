{
 "cells": [
  {
   "cell_type": "code",
   "execution_count": 1,
   "metadata": {},
   "outputs": [],
   "source": [
    "%load_ext autoreload\n",
    "%autoreload 2"
   ]
  },
  {
   "cell_type": "code",
   "execution_count": 4,
   "metadata": {},
   "outputs": [],
   "source": [
    "import numpy as np\n",
    "import pandas as pd\n"
   ]
  },
  {
   "cell_type": "code",
   "execution_count": 20,
   "metadata": {},
   "outputs": [],
   "source": [
    "# Load training data\n",
    "raw_train_data = pd.read_csv('../data/train.csv')\n",
    "train_data = raw_train_data.to_numpy(dtype=np.float32)[:, 1:].T\n",
    "train_labels = raw_train_data['label']\n",
    "\n",
    "# Load testing data\n",
    "raw_test_data = pd.read_csv('../data/test.csv')\n",
    "test_data = raw_test_data.to_numpy(dtype=np.float32)[:, 1:].T\n",
    "test_labels = raw_test_data['label']\n",
    "\n",
    "# Normalize pixel data to prevent overflow\n",
    "train_data /= 255.0\n",
    "test_data /= 255.0\n"
   ]
  },
  {
   "cell_type": "code",
   "execution_count": 21,
   "metadata": {},
   "outputs": [],
   "source": [
    "from mlp import mlp_train, mlp_predict, sigmoid, nll"
   ]
  },
  {
   "cell_type": "code",
   "execution_count": null,
   "metadata": {},
   "outputs": [],
   "source": [
    "# Train MLP\n",
    "mlp_params = {\n",
    "    'max_iter': 1000,\n",
    "    'activation_function': sigmoid,\n",
    "    'loss_function': nll,\n",
    "    'lambda': 0.1,\n",
    "    'num_hidden_units': [200, 15],\n",
    "    'learning_rate': 0.001\n",
    "}\n",
    "\n",
    "mlp_model = mlp_train(train_data, train_labels, mlp_params)"
   ]
  },
  {
   "cell_type": "code",
   "execution_count": 29,
   "metadata": {},
   "outputs": [
    {
     "name": "stdout",
     "output_type": "stream",
     "text": [
      "MLP Model accuracy: 0.97475\n"
     ]
    }
   ],
   "source": [
    "# Test MLP\n",
    "mlp_pred_labels, mlp_scores, _, _ = mlp_predict(test_data, mlp_model)\n",
    "mlp_accuracy = np.mean(mlp_pred_labels == test_labels)\n",
    "\n",
    "print(f'MLP Model accuracy: {mlp_accuracy}')"
   ]
  }
 ],
 "metadata": {
  "interpreter": {
   "hash": "2d37ba769599ad785017ffe86398affcb8b62f7d7ae83d177202a2b87073c3ce"
  },
  "kernelspec": {
   "display_name": "Python 3.10.4 ('py10')",
   "language": "python",
   "name": "python3"
  },
  "language_info": {
   "codemirror_mode": {
    "name": "ipython",
    "version": 3
   },
   "file_extension": ".py",
   "mimetype": "text/x-python",
   "name": "python",
   "nbconvert_exporter": "python",
   "pygments_lexer": "ipython3",
   "version": "3.10.4"
  },
  "orig_nbformat": 4
 },
 "nbformat": 4,
 "nbformat_minor": 2
}
