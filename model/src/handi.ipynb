{
 "cells": [
  {
   "cell_type": "code",
   "execution_count": 2,
   "metadata": {},
   "outputs": [],
   "source": [
    "%load_ext autoreload\n",
    "%autoreload 2"
   ]
  },
  {
   "cell_type": "code",
   "execution_count": 3,
   "metadata": {},
   "outputs": [],
   "source": [
    "import numpy as np\n",
    "import pandas as pd\n",
    "import matplotlib.pyplot as plt"
   ]
  },
  {
   "cell_type": "markdown",
   "metadata": {},
   "source": [
    "## Data Preprocessing"
   ]
  },
  {
   "cell_type": "markdown",
   "metadata": {},
   "source": [
    "### Load the data"
   ]
  },
  {
   "cell_type": "code",
   "execution_count": 4,
   "metadata": {},
   "outputs": [],
   "source": [
    "# Load training data\n",
    "raw_train_data = pd.read_csv('../data/train.csv')\n",
    "train_data = raw_train_data.to_numpy(dtype=np.float32)[:, 1:].T\n",
    "train_labels = raw_train_data['label']\n",
    "\n",
    "# Load testing data\n",
    "raw_test_data = pd.read_csv('../data/test.csv')\n",
    "test_data = raw_test_data.to_numpy(dtype=np.float32)[:, 1:].T\n",
    "test_labels = raw_test_data['label']\n",
    "\n",
    "# Normalize pixel data to prevent overflow\n",
    "train_data /= 255.0\n",
    "test_data /= 255.0\n",
    "\n",
    "# "
   ]
  },
  {
   "cell_type": "code",
   "execution_count": 14,
   "metadata": {},
   "outputs": [
    {
     "data": {
      "text/plain": [
       "<matplotlib.image.AxesImage at 0x16e844db160>"
      ]
     },
     "execution_count": 14,
     "metadata": {},
     "output_type": "execute_result"
    },
    {
     "data": {
      "image/png": "[encoded data removed]",
      "text/plain": [
       "<Figure size 432x288 with 1 Axes>"
      ]
     },
     "metadata": {
      "needs_background": "light"
     },
     "output_type": "display_data"
    }
   ],
   "source": [
    "img = train_data[:,0]\n",
    "plt.imshow(img.reshape(28,28), cmap=\"Greys\")"
   ]
  },
  {
   "cell_type": "markdown",
   "metadata": {},
   "source": [
    "### Apply HOG decomposition"
   ]
  },
  {
   "cell_type": "code",
   "execution_count": 23,
   "metadata": {},
   "outputs": [],
   "source": [
    "from hog import hog_horizontal_gradient, hog_vertical_gradient, hog_gradient_magnitudes, hog_gradient_directions, hog_histogram, hog_image_features, hog"
   ]
  },
  {
   "cell_type": "code",
   "execution_count": 38,
   "metadata": {},
   "outputs": [
    {
     "data": {
      "text/plain": [
       "<matplotlib.image.AxesImage at 0x16e84ba9960>"
      ]
     },
     "execution_count": 38,
     "metadata": {},
     "output_type": "execute_result"
    },
    {
     "data": {
      "image/png": "[encoded data removed]",
      "text/plain": [
       "<Figure size 432x288 with 1 Axes>"
      ]
     },
     "metadata": {
      "needs_background": "light"
     },
     "output_type": "display_data"
    }
   ],
   "source": [
    "hog_horz_img = hog_horizontal_gradient(img, (28, 28))\n",
    "plt.imshow(hog_horz_img.reshape(28,28), cmap=\"Greys\")"
   ]
  },
  {
   "cell_type": "code",
   "execution_count": 8,
   "metadata": {},
   "outputs": [
    {
     "data": {
      "text/plain": [
       "<matplotlib.image.AxesImage at 0x16ed6b37460>"
      ]
     },
     "execution_count": 8,
     "metadata": {},
     "output_type": "execute_result"
    },
    {
     "data": {
      "image/png": "[encoded data removed]",
      "text/plain": [
       "<Figure size 432x288 with 1 Axes>"
      ]
     },
     "metadata": {
      "needs_background": "light"
     },
     "output_type": "display_data"
    }
   ],
   "source": [
    "hog_vert_img = hog_vertical_gradient(img)\n",
    "plt.imshow(hog_vert_img, cmap=\"Greys\")"
   ]
  },
  {
   "cell_type": "code",
   "execution_count": 9,
   "metadata": {},
   "outputs": [
    {
     "data": {
      "text/plain": [
       "<matplotlib.image.AxesImage at 0x16ed707e320>"
      ]
     },
     "execution_count": 9,
     "metadata": {},
     "output_type": "execute_result"
    },
    {
     "data": {
      "image/png": "[encoded data removed]",
      "text/plain": [
       "<Figure size 432x288 with 1 Axes>"
      ]
     },
     "metadata": {
      "needs_background": "light"
     },
     "output_type": "display_data"
    }
   ],
   "source": [
    "hog_mag_img = hog_gradient_magnitudes(hog_horz_img, hog_vert_img)\n",
    "plt.imshow(hog_mag_img, cmap=\"Greys\")"
   ]
  },
  {
   "cell_type": "code",
   "execution_count": 10,
   "metadata": {},
   "outputs": [
    {
     "data": {
      "text/plain": [
       "<matplotlib.image.AxesImage at 0x16ed70ed180>"
      ]
     },
     "execution_count": 10,
     "metadata": {},
     "output_type": "execute_result"
    },
    {
     "data": {
      "image/png": "[encoded data removed]",
      "text/plain": [
       "<Figure size 432x288 with 1 Axes>"
      ]
     },
     "metadata": {
      "needs_background": "light"
     },
     "output_type": "display_data"
    }
   ],
   "source": [
    "hog_dir_img = hog_gradient_directions(hog_horz_img, hog_vert_img)\n",
    "plt.imshow(hog_dir_img, cmap=\"Greys\")"
   ]
  },
  {
   "cell_type": "code",
   "execution_count": 11,
   "metadata": {},
   "outputs": [
    {
     "name": "stdout",
     "output_type": "stream",
     "text": [
      "[17.73927339 21.75527367 59.40036108 66.27354371 29.81234652  9.86710847\n",
      "  0.          0.          0.        ]\n"
     ]
    },
    {
     "data": {
      "text/plain": [
       "<BarContainer object of 9 artists>"
      ]
     },
     "execution_count": 11,
     "metadata": {},
     "output_type": "execute_result"
    },
    {
     "data": {
      "image/png": "[encoded data removed]",
      "text/plain": [
       "<Figure size 432x288 with 1 Axes>"
      ]
     },
     "metadata": {
      "needs_background": "light"
     },
     "output_type": "display_data"
    }
   ],
   "source": [
    "hist = hog_histogram(hog_mag_img, hog_dir_img, 9)\n",
    "print(hist)\n",
    "plt.bar(height=hist, x=[0, 20, 40, 60, 80, 100, 120, 140, 160], width=3)"
   ]
  },
  {
   "cell_type": "code",
   "execution_count": 12,
   "metadata": {},
   "outputs": [
    {
     "name": "stdout",
     "output_type": "stream",
     "text": [
      "[1.53891642 0.85519902 2.18425845 5.04301369 1.42896695 0.60135086\n",
      " 0.         0.         0.        ]\n",
      "[1.53891642 0.85519902 2.18425845 5.04301369 1.42896695 0.60135086\n",
      " 0.         0.         0.        ]\n"
     ]
    },
    {
     "data": {
      "text/plain": [
       "<BarContainer object of 9 artists>"
      ]
     },
     "execution_count": 12,
     "metadata": {},
     "output_type": "execute_result"
    },
    {
     "data": {
      "image/png": "[encoded data removed]",
      "text/plain": [
       "<Figure size 432x288 with 1 Axes>"
      ]
     },
     "metadata": {
      "needs_background": "light"
     },
     "output_type": "display_data"
    }
   ],
   "source": [
    "hists = hog(img)\n",
    "print(hists[299,:])\n",
    "features = hists.flatten()\n",
    "print(features[2691:2700])\n",
    "\n",
    "plt.bar(height=hists[300,:], x=[0, 20, 40, 60, 80, 100, 120, 140, 160], width=3)\n"
   ]
  },
  {
   "cell_type": "markdown",
   "metadata": {},
   "source": [
    "## Train the Model"
   ]
  },
  {
   "cell_type": "code",
   "execution_count": 21,
   "metadata": {},
   "outputs": [],
   "source": [
    "from mlp import mlp_train, mlp_predict, sigmoid, nll"
   ]
  },
  {
   "cell_type": "code",
   "execution_count": null,
   "metadata": {},
   "outputs": [],
   "source": [
    "# Train MLP\n",
    "mlp_params = {\n",
    "    'max_iter': 1000,\n",
    "    'activation_function': sigmoid,\n",
    "    'loss_function': nll,\n",
    "    'lambda': 0.1,\n",
    "    'num_hidden_units': [200, 15],\n",
    "    'learning_rate': 0.001\n",
    "}\n",
    "\n",
    "mlp_model = mlp_train(train_data, train_labels, mlp_params)"
   ]
  },
  {
   "cell_type": "code",
   "execution_count": 29,
   "metadata": {},
   "outputs": [
    {
     "name": "stdout",
     "output_type": "stream",
     "text": [
      "MLP Model accuracy: 0.97475\n"
     ]
    }
   ],
   "source": [
    "# Test MLP\n",
    "mlp_pred_labels, mlp_scores, _, _ = mlp_predict(test_data, mlp_model)\n",
    "mlp_accuracy = np.mean(mlp_pred_labels == test_labels)\n",
    "\n",
    "print(f'MLP Model accuracy: {mlp_accuracy}')"
   ]
  }
 ],
 "metadata": {
  "interpreter": {
   "hash": "2d37ba769599ad785017ffe86398affcb8b62f7d7ae83d177202a2b87073c3ce"
  },
  "kernelspec": {
   "display_name": "Python 3.10.4 ('py10')",
   "language": "python",
   "name": "python3"
  },
  "language_info": {
   "codemirror_mode": {
    "name": "ipython",
    "version": 3
   },
   "file_extension": ".py",
   "mimetype": "text/x-python",
   "name": "python",
   "nbconvert_exporter": "python",
   "pygments_lexer": "ipython3",
   "version": "3.10.4"
  },
  "orig_nbformat": 4
 },
 "nbformat": 4,
 "nbformat_minor": 2
}
